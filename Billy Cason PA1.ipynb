{
 "cells": [
  {
   "cell_type": "code",
   "execution_count": 2,
   "id": "61448c9d",
   "metadata": {},
   "outputs": [
    {
     "name": "stdout",
     "output_type": "stream",
     "text": [
      "Enter a floating number:44.3\n",
      "Enter an integer:16\n",
      "The sum is 60.3\n",
      "The difference is 28.299999999999997\n",
      "The product is 708.8\n",
      "The quotient is 2.76875\n"
     ]
    }
   ],
   "source": [
    "a=float(input(\"Enter a floating number:\"))\n",
    "b=int(input(\"Enter an integer:\"))\n",
    "c=a+b\n",
    "print(\"The sum is\",c)\n",
    "d=a-b\n",
    "print(\"The difference is\",d)\n",
    "e=a*b\n",
    "print(\"The product is\",e)\n",
    "f=a/b\n",
    "print(\"The quotient is\",f)"
   ]
  },
  {
   "cell_type": "markdown",
   "id": "d9cd2dfc",
   "metadata": {},
   "source": [
    "Billy Cason\n",
    "Programming Assignment 1"
   ]
  },
  {
   "cell_type": "code",
   "execution_count": null,
   "id": "c2e1ef05",
   "metadata": {},
   "outputs": [],
   "source": []
  }
 ],
 "metadata": {
  "kernelspec": {
   "display_name": "Python 3",
   "language": "python",
   "name": "python3"
  },
  "language_info": {
   "codemirror_mode": {
    "name": "ipython",
    "version": 3
   },
   "file_extension": ".py",
   "mimetype": "text/x-python",
   "name": "python",
   "nbconvert_exporter": "python",
   "pygments_lexer": "ipython3",
   "version": "3.8.8"
  }
 },
 "nbformat": 4,
 "nbformat_minor": 5
}
